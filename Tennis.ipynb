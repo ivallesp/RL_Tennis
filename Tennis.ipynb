{
 "cells": [
  {
   "cell_type": "markdown",
   "metadata": {},
   "source": [
    "# Collaboration and Competition\n",
    "\n",
    "---\n",
    "\n",
    "In this notebook, we will usethe Unity ML-Agents environment for the third project of the [Deep Reinforcement Learning Nanodegree](https://www.udacity.com/course/deep-reinforcement-learning-nanodegree--nd893) program.\n",
    "\n",
    "### 1. Start the Environment\n",
    "\n",
    "We begin by importing the necessary packages.  If the code cell below returns an error, please revisit the project instructions to double-check that you have installed [Unity ML-Agents](https://github.com/Unity-Technologies/ml-agents/blob/master/docs/Installation.md) and [NumPy](http://www.numpy.org/)."
   ]
  },
  {
   "cell_type": "code",
   "execution_count": 1,
   "metadata": {},
   "outputs": [],
   "source": [
    "from unityagents import UnityEnvironment\n",
    "import numpy as np\n",
    "from src.agents import MADDPGAgent\n",
    "from src.models import CriticArchitecture, ActorArchitecture\n",
    "import matplotlib.pyplot as plt\n",
    "from src.rl_utilities import plot_smoothed_return\n",
    "from IPython.display import clear_output\n",
    "import torch"
   ]
  },
  {
   "cell_type": "markdown",
   "metadata": {},
   "source": [
    "Next, we will start the environment!  **_Before running the code cell below_**, change the `file_name` parameter to match the location of the Unity environment that you downloaded.\n",
    "\n",
    "- **Mac**: `\"path/to/Tennis.app\"`\n",
    "- **Windows** (x86): `\"path/to/Tennis_Windows_x86/Tennis.exe\"`\n",
    "- **Windows** (x86_64): `\"path/to/Tennis_Windows_x86_64/Tennis.exe\"`\n",
    "- **Linux** (x86): `\"path/to/Tennis_Linux/Tennis.x86\"`\n",
    "- **Linux** (x86_64): `\"path/to/Tennis_Linux/Tennis.x86_64\"`\n",
    "- **Linux** (x86, headless): `\"path/to/Tennis_Linux_NoVis/Tennis.x86\"`\n",
    "- **Linux** (x86_64, headless): `\"path/to/Tennis_Linux_NoVis/Tennis.x86_64\"`\n",
    "\n",
    "For instance, if you are using a Mac, then you downloaded `Tennis.app`.  If this file is in the same folder as the notebook, then the line below should appear as follows:\n",
    "```\n",
    "env = UnityEnvironment(file_name=\"Tennis.app\")\n",
    "```"
   ]
  },
  {
   "cell_type": "code",
   "execution_count": 2,
   "metadata": {},
   "outputs": [
    {
     "name": "stderr",
     "output_type": "stream",
     "text": [
      "INFO:unityagents:\n",
      "'Academy' started successfully!\n",
      "Unity Academy name: Academy\n",
      "        Number of Brains: 1\n",
      "        Number of External Brains : 1\n",
      "        Lesson number : 0\n",
      "        Reset Parameters :\n",
      "\t\t\n",
      "Unity brain name: TennisBrain\n",
      "        Number of Visual Observations (per agent): 0\n",
      "        Vector Observation space type: continuous\n",
      "        Vector Observation space size (per agent): 8\n",
      "        Number of stacked Vector Observation: 3\n",
      "        Vector Action space type: continuous\n",
      "        Vector Action space size (per agent): 2\n",
      "        Vector Action descriptions: , \n"
     ]
    }
   ],
   "source": [
    "env = UnityEnvironment(file_name=\"./envs/Tennis_Windows_x86_64/Tennis.exe\")"
   ]
  },
  {
   "cell_type": "markdown",
   "metadata": {},
   "source": [
    "Environments contain **_brains_** which are responsible for deciding the actions of their associated agents. Here we check for the first brain available, and set it as the default brain we will be controlling from Python."
   ]
  },
  {
   "cell_type": "code",
   "execution_count": 3,
   "metadata": {},
   "outputs": [],
   "source": [
    "# get the default brain\n",
    "brain_name = env.brain_names[0]\n",
    "brain = env.brains[brain_name]"
   ]
  },
  {
   "cell_type": "markdown",
   "metadata": {},
   "source": [
    "### 2. Examine the State and Action Spaces\n",
    "\n",
    "In this environment, two agents control rackets to bounce a ball over a net. If an agent hits the ball over the net, it receives a reward of +0.1.  If an agent lets a ball hit the ground or hits the ball out of bounds, it receives a reward of -0.01.  Thus, the goal of each agent is to keep the ball in play.\n",
    "\n",
    "The observation space consists of 8 variables corresponding to the position and velocity of the ball and racket. Two continuous actions are available, corresponding to movement toward (or away from) the net, and jumping. \n",
    "\n",
    "Run the code cell below to print some information about the environment."
   ]
  },
  {
   "cell_type": "code",
   "execution_count": 4,
   "metadata": {},
   "outputs": [
    {
     "name": "stdout",
     "output_type": "stream",
     "text": [
      "Number of agents: 2\n",
      "Size of each action: 2\n",
      "There are 2 agents. Each observes a state with length: 24\n",
      "The state for the first agent looks like: [ 0.          0.          0.          0.          0.          0.\n",
      "  0.          0.          0.          0.          0.          0.\n",
      "  0.          0.          0.          0.         -6.65278625 -1.5\n",
      " -0.          0.          6.83172083  6.         -0.          0.        ]\n"
     ]
    }
   ],
   "source": [
    "# reset the environment\n",
    "env_info = env.reset(train_mode=True)[brain_name]\n",
    "\n",
    "# number of agents \n",
    "num_agents = len(env_info.agents)\n",
    "print('Number of agents:', num_agents)\n",
    "\n",
    "# size of each action\n",
    "action_size = brain.vector_action_space_size\n",
    "print('Size of each action:', action_size)\n",
    "\n",
    "# examine the state space \n",
    "states = env_info.vector_observations\n",
    "state_size = states.shape[1]\n",
    "print('There are {} agents. Each observes a state with length: {}'.format(states.shape[0], state_size))\n",
    "print('The state for the first agent looks like:', states[0])"
   ]
  },
  {
   "cell_type": "markdown",
   "metadata": {},
   "source": [
    "### 3. Take Random Actions in the Environment\n",
    "\n",
    "In the next code cell, you will learn how to use the Python API to control the agents and receive feedback from the environment.\n",
    "\n",
    "Once this cell is executed, you will watch the agents' performance, if they select actions at random with each time step.  A window should pop up that allows you to observe the agents.\n",
    "\n",
    "Of course, as part of the project, you'll have to change the code so that the agents are able to use their experiences to gradually choose better actions when interacting with the environment!"
   ]
  },
  {
   "cell_type": "raw",
   "metadata": {},
   "source": [
    "for i in range(1, 6):                                      # play game for 5 episodes\n",
    "    env_info = env.reset(train_mode=False)[brain_name]     # reset the environment    \n",
    "    states = env_info.vector_observations                  # get the current state (for each agent)\n",
    "    scores = np.zeros(num_agents)                          # initialize the score (for each agent)\n",
    "    while True:\n",
    "        actions = np.random.randn(num_agents, action_size) # select an action (for each agent)\n",
    "        actions = np.clip(actions, -1, 1)                  # all actions between -1 and 1\n",
    "        env_info = env.step(actions)[brain_name]           # send all actions to tne environment\n",
    "        next_states = env_info.vector_observations         # get next state (for each agent)\n",
    "        rewards = env_info.rewards                         # get reward (for each agent)\n",
    "        dones = env_info.local_done                        # see if episode finished\n",
    "        scores += env_info.rewards                         # update the score (for each agent)\n",
    "        states = next_states                               # roll over states to next time step\n",
    "        if np.any(dones):                                  # exit loop if episode finished\n",
    "            break\n",
    "    print('Score (max over agents) from episode {}: {}'.format(i, np.max(scores)))"
   ]
  },
  {
   "cell_type": "markdown",
   "metadata": {},
   "source": [
    "### 4. It's Your Turn!\n",
    "\n",
    "Now it's your turn to train your own agent to solve the environment!  When training the environment, set `train_mode=True`, so that the line for resetting the environment looks like the following:\n",
    "```python\n",
    "env_info = env.reset(train_mode=True)[brain_name]\n",
    "```"
   ]
  },
  {
   "cell_type": "code",
   "execution_count": 5,
   "metadata": {},
   "outputs": [],
   "source": [
    "batch_size = 128  # Size of the batch to train the neural networks\n",
    "n_episodes = 4000 # Number of episodes to run when training the agent\n",
    "n_batches_train = 1 # Number of times to train for each time step\n",
    "n_agents = 2 # Number of agents\n",
    "exp_replay_buffer_size = int(1e5) # Experience replay buffer size\n",
    "epsilon_decay =  1 # Decay of the exploration constant\n",
    "epsilon = 1 # Initial value of the exploration constant\n",
    "epsilon_final = 0.1 # Final value of the exploration constant\n",
    "plot_every_n = 10 # Period to update the rewards chart\n",
    "save_every_n = 1 # Period to save the model if an improvement has been found\n",
    "tau = 0.02 # Parameter that controls how fast the local networks update the target networks\n",
    "gamma = 0.99 # Discount factor"
   ]
  },
  {
   "cell_type": "code",
   "execution_count": 6,
   "metadata": {},
   "outputs": [],
   "source": [
    "agent = MADDPGAgent(CriticArchitecture, ActorArchitecture, state_size=state_size, action_size=action_size, n_agents=n_agents,\n",
    "                  tau=tau, gamma=gamma, batch_size=batch_size, replay_size = exp_replay_buffer_size,\n",
    "                  n_batches_train=n_batches_train, random_seed=655321)\n",
    "scores = [] \n",
    "epsilons = []\n",
    "buffer_sizes = []\n",
    "max_score = 0\n",
    "actions_unique=set()"
   ]
  },
  {
   "cell_type": "code",
   "execution_count": 10,
   "metadata": {
    "scrolled": false
   },
   "outputs": [
    {
     "data": {
      "image/png": "[encoded data removed]",
      "text/plain": [
       "<Figure size 1080x288 with 3 Axes>"
      ]
     },
     "metadata": {
      "needs_background": "light"
     },
     "output_type": "display_data"
    }
   ],
   "source": [
    "for episode in range(n_episodes):\n",
    "    epsilons.append(epsilon)\n",
    "    epsilon = epsilon_decay * epsilon + (1-epsilon_decay) * epsilon_final\n",
    "    env_info = env.reset(train_mode=True)[brain_name] \n",
    "    agent.reset()\n",
    "    state = env_info.vector_observations\n",
    "    score = []\n",
    "    done = [False]\n",
    "    c = 0\n",
    "    while not any(done):\n",
    "        # take random action\n",
    "        action = agent.act(state, epsilon=epsilon)\n",
    "        env_info = env.step(action)[brain_name]\n",
    "        next_state = env_info.vector_observations\n",
    "        reward = env_info.rewards\n",
    "        done = env_info.local_done\n",
    "        agent.step(state, action, reward, next_state, done)\n",
    "        state = next_state\n",
    "        score += [reward]\n",
    "        c += 1\n",
    "        #actions_unique = actions_unique.union(set(np.unique(action)))\n",
    "\n",
    "    scores.append(np.max(np.sum(score, axis=0)))\n",
    "    buffer_sizes.append(agent.replay_buffer.length)\n",
    "    \n",
    "    if (episode+1) % plot_every_n == 0:\n",
    "        clear_output(True)\n",
    "        plt.figure(figsize=(15, 4))\n",
    "        plt.subplot(1,3,1)\n",
    "        plot_smoothed_return(scores)\n",
    "        plt.subplot(1,3,2)\n",
    "        plt.grid()\n",
    "        plt.plot(epsilons)\n",
    "        plt.xlabel(\"# of episodes\")\n",
    "        plt.title(\"Epsilon\")\n",
    "        plt.subplot(1,3,3)\n",
    "        plt.grid()\n",
    "        plt.plot(buffer_sizes)\n",
    "        plt.xlabel(\"# of episodes\")\n",
    "        plt.title(\"Replay buffer size\")\n",
    "        plt.show()\n",
    "        \n",
    "    if (episode + 1) % save_every_n == 0:\n",
    "        if max_score < np.mean(scores[-100:]): \n",
    "            for i, ddpg_agent in enumerate(agent.agents):\n",
    "                torch.save(ddpg_agent.critic_local.state_dict(), f'checkpoint_critic_local_tennis_{i}.pth')\n",
    "                torch.save(ddpg_agent.critic_target.state_dict(), f'checkpoint_critic_target_tennis_{i}.pth')\n",
    "                torch.save(ddpg_agent.actor_local.state_dict(), f'checkpoint_actor_local_tennis_{i}.pth')\n",
    "                torch.save(ddpg_agent.actor_target.state_dict(), f'checkpoint_actor_target_tennis_{i}.pth')\n",
    "                max_score = np.mean(scores[-100:])"
   ]
  },
  {
   "cell_type": "code",
   "execution_count": 11,
   "metadata": {},
   "outputs": [],
   "source": [
    "agent = MADDPGAgent(CriticArchitecture, ActorArchitecture, state_size=state_size, action_size=action_size, n_agents=n_agents,\n",
    "                  tau=tau, gamma=gamma, batch_size=batch_size, replay_size = exp_replay_buffer_size,\n",
    "                  n_batches_train=n_batches_train, random_seed=655321)\n",
    "for i, ddpg_agent in enumerate(agent.agents):\n",
    "    ddpg_agent.critic_local.load_state_dict(torch.load(f'checkpoint_critic_local_tennis_{i}.pth'))\n",
    "    ddpg_agent.critic_target.load_state_dict(torch.load(f'checkpoint_critic_target_tennis_{i}.pth'))\n",
    "    ddpg_agent.actor_local.load_state_dict(torch.load(f'checkpoint_actor_local_tennis_{i}.pth'))\n",
    "    ddpg_agent.actor_target.load_state_dict(torch.load(f'checkpoint_actor_target_tennis_{i}.pth'))\n"
   ]
  },
  {
   "cell_type": "code",
   "execution_count": 13,
   "metadata": {},
   "outputs": [
    {
     "name": "stderr",
     "output_type": "stream",
     "text": [
      "C:\\Users\\Ivan Valles Perez\\AppData\\Local\\Continuum\\anaconda3\\lib\\site-packages\\torch\\nn\\functional.py:995: UserWarning: nn.functional.tanh is deprecated. Use torch.tanh instead.\n",
      "  warnings.warn(\"nn.functional.tanh is deprecated. Use torch.tanh instead.\")\n"
     ]
    }
   ],
   "source": [
    "rewards=[]\n",
    "env_info = env.reset(train_mode=False)[brain_name] \n",
    "state = env_info.vector_observations\n",
    "done=[False]\n",
    "while not any(done):\n",
    "    # take random action\n",
    "    action = agent.act(state, epsilon=epsilon)\n",
    "    env_info = env.step(action)[brain_name]\n",
    "    state = env_info.vector_observations\n",
    "    done = env_info.local_done\n",
    "    reward = env_info.rewards\n",
    "    rewards.append(reward)\n"
   ]
  },
  {
   "cell_type": "code",
   "execution_count": null,
   "metadata": {},
   "outputs": [],
   "source": []
  }
 ],
 "metadata": {
  "kernelspec": {
   "display_name": "Python 3",
   "language": "python",
   "name": "python3"
  },
  "language_info": {
   "codemirror_mode": {
    "name": "ipython",
    "version": 3
   },
   "file_extension": ".py",
   "mimetype": "text/x-python",
   "name": "python",
   "nbconvert_exporter": "python",
   "pygments_lexer": "ipython3",
   "version": "3.6.6"
  }
 },
 "nbformat": 4,
 "nbformat_minor": 2
}
